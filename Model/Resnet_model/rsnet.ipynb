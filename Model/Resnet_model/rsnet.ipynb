{
  "nbformat": 4,
  "nbformat_minor": 0,
  "metadata": {
    "colab": {
      "provenance": [],
      "collapsed_sections": []
    },
    "kernelspec": {
      "name": "python3",
      "display_name": "Python 3"
    },
    "language_info": {
      "name": "python"
    }
  },
  "cells": [
    {
      "cell_type": "code",
      "execution_count": 1,
      "metadata": {
        "id": "POSDwGxEweSJ",
        "colab": {
          "base_uri": "https://localhost:8080/"
        },
        "outputId": "1c8d7305-2930-4934-913f-a19b728fb327"
      },
      "outputs": [
        {
          "output_type": "stream",
          "name": "stdout",
          "text": [
            "Drive already mounted at /content/drive; to attempt to forcibly remount, call drive.mount(\"/content/drive\", force_remount=True).\n"
          ]
        }
      ],
      "source": [
        "# Import The Libraries \n",
        "import  pandas as pd\n",
        "import  numpy as np\n",
        "import glob,cv2\n",
        "import matplotlib.pyplot as plt\n",
        "import random\n",
        "\n",
        "import tensorflow as tf\n",
        "from tensorflow.keras.models import Sequential,Model\n",
        "from sklearn.model_selection import train_test_split\n",
        "from tensorflow.keras.layers import Conv2D,MaxPooling2D,Flatten,Dense,BatchNormalization,Activation,Input, Lambda\n",
        "from tensorflow.keras.callbacks import EarlyStopping\n",
        "from sklearn.metrics import confusion_matrix,classification_report\n",
        "\n",
        "from tensorflow.keras.utils import plot_model\n",
        "\n",
        "from tensorflow.keras.applications.resnet50 import ResNet50, preprocess_input\n",
        "from tensorflow.keras.preprocessing import image\n",
        "from tensorflow.keras.preprocessing.image import ImageDataGenerator, load_img\n",
        "from google.colab import drive\n",
        "drive.mount('/content/drive')"
      ]
    },
    {
      "cell_type": "code",
      "source": [
        "# Set Resize variable\n",
        "IMAGE_SIZE = [224, 224]\n",
        "\n",
        "resnet = ResNet50(\n",
        "    input_shape = IMAGE_SIZE + [3], # Making the image into 3 Channel, so concating 3.\n",
        "    weights = 'imagenet', # Default weights.\n",
        "    include_top = False   # \n",
        ")\n",
        "\n",
        "for layer in resnet.layers:\n",
        "    layer.trainable = False\n"
      ],
      "metadata": {
        "id": "C5X1OxGiVL4E"
      },
      "execution_count": 3,
      "outputs": []
    },
    {
      "cell_type": "code",
      "source": [
        "train_Path = './drive/MyDrive/Colab Notebooks/dataset/train'\n",
        "test_Path = './drive/MyDrive/Colab Notebooks/dataset/test'\n",
        "folders = glob.glob(train_Path + '/*')\n",
        "image_label = ['normal', 'fire']\n",
        "folders"
      ],
      "metadata": {
        "id": "6S7FP95RhqBy",
        "colab": {
          "base_uri": "https://localhost:8080/"
        },
        "outputId": "e216d7b7-86cb-4a1e-ae33-476c7a143475"
      },
      "execution_count": 23,
      "outputs": [
        {
          "output_type": "execute_result",
          "data": {
            "text/plain": [
              "['./drive/MyDrive/Colab Notebooks/dataset/train/normal',\n",
              " './drive/MyDrive/Colab Notebooks/dataset/train/fire']"
            ]
          },
          "metadata": {},
          "execution_count": 23
        }
      ]
    },
    {
      "cell_type": "code",
      "source": [
        "x = Flatten() (resnet.output)\n",
        "prediction = Dense(len(folders), activation = 'softmax')(x)\n",
        "model = Model(inputs = resnet.input, outputs = prediction)\n",
        "model.compile (\n",
        "    loss = 'categorical_crossentropy',\n",
        "    optimizer = 'adam',\n",
        "    metrics = ['accuracy']\n",
        ")"
      ],
      "metadata": {
        "id": "nQVbopLalw-k"
      },
      "execution_count": 24,
      "outputs": []
    },
    {
      "cell_type": "code",
      "source": [
        "train_datagen = ImageDataGenerator(\n",
        "    rescale = 1./255,\n",
        "    shear_range = 0.2,\n",
        "    zoom_range = 0.2,\n",
        "    horizontal_flip = True\n",
        ")\n",
        "\n",
        "test_datagen = ImageDataGenerator(\n",
        "    rescale = 1./255\n",
        ")"
      ],
      "metadata": {
        "id": "CWMj8lufV8zu"
      },
      "execution_count": 25,
      "outputs": []
    },
    {
      "cell_type": "code",
      "source": [
        "training_set = train_datagen.flow_from_directory(\n",
        "    train_Path,\n",
        "    target_size = IMAGE_SIZE,\n",
        "    batch_size = 32,\n",
        "    class_mode = 'categorical' # As we have more than 2 so using categorical.. for 2 we might have used binary.\n",
        ")"
      ],
      "metadata": {
        "colab": {
          "base_uri": "https://localhost:8080/"
        },
        "id": "j1wFB-PHaEZX",
        "outputId": "4c803fee-d9a5-451b-db67-3bb663577aa0"
      },
      "execution_count": 26,
      "outputs": [
        {
          "output_type": "stream",
          "name": "stdout",
          "text": [
            "Found 763 images belonging to 2 classes.\n"
          ]
        }
      ]
    },
    {
      "cell_type": "code",
      "source": [
        "test_set = train_datagen.flow_from_directory(\n",
        "    test_Path,\n",
        "    target_size = IMAGE_SIZE,\n",
        "    batch_size = 32,\n",
        "    class_mode = 'categorical'\n",
        ")"
      ],
      "metadata": {
        "colab": {
          "base_uri": "https://localhost:8080/"
        },
        "id": "GGggMGaPkYzJ",
        "outputId": "a1bcdaf6-e673-4af5-9909-e5403f41447d"
      },
      "execution_count": 27,
      "outputs": [
        {
          "output_type": "stream",
          "name": "stdout",
          "text": [
            "Found 77 images belonging to 2 classes.\n"
          ]
        }
      ]
    },
    {
      "cell_type": "code",
      "source": [
        "history = model.fit_generator(\n",
        "    training_set,\n",
        "    validation_data = test_set,\n",
        "    epochs = 200,\n",
        "    steps_per_epoch = len(training_set),\n",
        "    validation_steps = len(test_set)\n",
        ")"
      ],
      "metadata": {
        "id": "F0I2_ham3aqU",
        "colab": {
          "base_uri": "https://localhost:8080/"
        },
        "outputId": "90f0b019-6b72-4dd6-e66b-e351f9acc04c"
      },
      "execution_count": null,
      "outputs": [
        {
          "output_type": "stream",
          "name": "stderr",
          "text": [
            "/usr/local/lib/python3.7/dist-packages/ipykernel_launcher.py:6: UserWarning: `Model.fit_generator` is deprecated and will be removed in a future version. Please use `Model.fit`, which supports generators.\n",
            "  \n"
          ]
        },
        {
          "output_type": "stream",
          "name": "stdout",
          "text": [
            "Epoch 1/200\n",
            "24/24 [==============================] - 172s 7s/step - loss: 1.5005 - accuracy: 0.6317 - val_loss: 0.9619 - val_accuracy: 0.5844\n",
            "Epoch 2/200\n",
            "24/24 [==============================] - 153s 6s/step - loss: 0.6722 - accuracy: 0.6855 - val_loss: 1.1979 - val_accuracy: 0.4935\n",
            "Epoch 3/200\n",
            "24/24 [==============================] - 157s 6s/step - loss: 0.8899 - accuracy: 0.6304 - val_loss: 1.4141 - val_accuracy: 0.4935\n",
            "Epoch 4/200\n",
            "24/24 [==============================] - 154s 6s/step - loss: 0.7384 - accuracy: 0.6972 - val_loss: 1.1450 - val_accuracy: 0.5584\n",
            "Epoch 5/200\n",
            "24/24 [==============================] - 153s 6s/step - loss: 0.5522 - accuracy: 0.7562 - val_loss: 0.5334 - val_accuracy: 0.7143\n",
            "Epoch 6/200\n",
            "24/24 [==============================] - 152s 6s/step - loss: 0.4818 - accuracy: 0.7680 - val_loss: 0.8152 - val_accuracy: 0.5844\n",
            "Epoch 7/200\n",
            "24/24 [==============================] - 153s 6s/step - loss: 0.5536 - accuracy: 0.7431 - val_loss: 0.3771 - val_accuracy: 0.7922\n",
            "Epoch 8/200\n",
            "24/24 [==============================] - 154s 6s/step - loss: 0.5314 - accuracy: 0.7497 - val_loss: 0.8065 - val_accuracy: 0.5974\n",
            "Epoch 9/200\n",
            "24/24 [==============================] - 161s 7s/step - loss: 0.4587 - accuracy: 0.7916 - val_loss: 0.3377 - val_accuracy: 0.8182\n",
            "Epoch 10/200\n",
            "24/24 [==============================] - 155s 6s/step - loss: 0.5076 - accuracy: 0.7785 - val_loss: 0.5335 - val_accuracy: 0.7143\n",
            "Epoch 11/200\n",
            "24/24 [==============================] - 156s 7s/step - loss: 0.4681 - accuracy: 0.7851 - val_loss: 0.3346 - val_accuracy: 0.8831\n",
            "Epoch 12/200\n",
            "24/24 [==============================] - 154s 6s/step - loss: 0.3859 - accuracy: 0.8296 - val_loss: 0.4383 - val_accuracy: 0.7792\n",
            "Epoch 13/200\n",
            "24/24 [==============================] - 158s 7s/step - loss: 0.7624 - accuracy: 0.6855 - val_loss: 1.2797 - val_accuracy: 0.5844\n",
            "Epoch 14/200\n",
            "24/24 [==============================] - 154s 6s/step - loss: 0.5309 - accuracy: 0.7851 - val_loss: 0.3261 - val_accuracy: 0.8961\n",
            "Epoch 15/200\n",
            "24/24 [==============================] - 155s 6s/step - loss: 0.3918 - accuracy: 0.8375 - val_loss: 0.3890 - val_accuracy: 0.7922\n",
            "Epoch 16/200\n",
            "24/24 [==============================] - 150s 6s/step - loss: 0.3570 - accuracy: 0.8467 - val_loss: 0.6872 - val_accuracy: 0.6234\n",
            "Epoch 17/200\n",
            "24/24 [==============================] - 152s 6s/step - loss: 0.5662 - accuracy: 0.7497 - val_loss: 0.3725 - val_accuracy: 0.8571\n",
            "Epoch 18/200\n",
            "24/24 [==============================] - 150s 6s/step - loss: 0.5648 - accuracy: 0.7720 - val_loss: 0.4705 - val_accuracy: 0.7532\n",
            "Epoch 19/200\n",
            "24/24 [==============================] - 148s 6s/step - loss: 0.3648 - accuracy: 0.8414 - val_loss: 0.8195 - val_accuracy: 0.6364\n",
            "Epoch 20/200\n",
            "24/24 [==============================] - 152s 6s/step - loss: 0.4714 - accuracy: 0.8021 - val_loss: 0.5230 - val_accuracy: 0.7532\n",
            "Epoch 21/200\n",
            "24/24 [==============================] - 152s 6s/step - loss: 0.3469 - accuracy: 0.8480 - val_loss: 0.5833 - val_accuracy: 0.7143\n",
            "Epoch 22/200\n",
            "24/24 [==============================] - 150s 6s/step - loss: 0.5311 - accuracy: 0.7864 - val_loss: 2.3706 - val_accuracy: 0.4026\n",
            "Epoch 23/200\n",
            "24/24 [==============================] - 150s 6s/step - loss: 0.8047 - accuracy: 0.7221 - val_loss: 0.4185 - val_accuracy: 0.7922\n",
            "Epoch 24/200\n",
            "24/24 [==============================] - 148s 6s/step - loss: 0.5042 - accuracy: 0.8073 - val_loss: 1.1107 - val_accuracy: 0.5974\n",
            "Epoch 25/200\n",
            "24/24 [==============================] - 152s 6s/step - loss: 0.3817 - accuracy: 0.8322 - val_loss: 0.3379 - val_accuracy: 0.8701\n",
            "Epoch 26/200\n",
            "24/24 [==============================] - 159s 7s/step - loss: 0.3057 - accuracy: 0.8663 - val_loss: 0.6210 - val_accuracy: 0.7013\n",
            "Epoch 27/200\n",
            "24/24 [==============================] - 157s 7s/step - loss: 0.3421 - accuracy: 0.8585 - val_loss: 0.2730 - val_accuracy: 0.8701\n",
            "Epoch 28/200\n",
            "24/24 [==============================] - 156s 6s/step - loss: 0.3667 - accuracy: 0.8349 - val_loss: 0.3352 - val_accuracy: 0.8571\n",
            "Epoch 29/200\n",
            "24/24 [==============================] - 154s 6s/step - loss: 0.3252 - accuracy: 0.8585 - val_loss: 0.3734 - val_accuracy: 0.8701\n",
            "Epoch 30/200\n",
            "24/24 [==============================] - 153s 6s/step - loss: 0.3382 - accuracy: 0.8545 - val_loss: 0.4986 - val_accuracy: 0.7532\n",
            "Epoch 31/200\n",
            "24/24 [==============================] - 151s 6s/step - loss: 0.3341 - accuracy: 0.8624 - val_loss: 0.9256 - val_accuracy: 0.5974\n",
            "Epoch 32/200\n",
            "24/24 [==============================] - 150s 6s/step - loss: 0.3977 - accuracy: 0.8218 - val_loss: 0.2926 - val_accuracy: 0.8571\n",
            "Epoch 33/200\n",
            "24/24 [==============================] - 148s 6s/step - loss: 0.4799 - accuracy: 0.7903 - val_loss: 0.3873 - val_accuracy: 0.7922\n",
            "Epoch 34/200\n",
            "24/24 [==============================] - 154s 6s/step - loss: 0.4507 - accuracy: 0.8178 - val_loss: 1.7279 - val_accuracy: 0.4935\n",
            "Epoch 35/200\n",
            "24/24 [==============================] - 156s 7s/step - loss: 0.4580 - accuracy: 0.8204 - val_loss: 0.2617 - val_accuracy: 0.8961\n",
            "Epoch 36/200\n",
            "24/24 [==============================] - 156s 7s/step - loss: 0.3612 - accuracy: 0.8362 - val_loss: 0.8701 - val_accuracy: 0.6234\n",
            "Epoch 37/200\n",
            "24/24 [==============================] - 153s 6s/step - loss: 0.3544 - accuracy: 0.8519 - val_loss: 0.5828 - val_accuracy: 0.7143\n",
            "Epoch 38/200\n",
            "24/24 [==============================] - 152s 6s/step - loss: 0.3183 - accuracy: 0.8598 - val_loss: 0.2719 - val_accuracy: 0.8831\n",
            "Epoch 39/200\n",
            "24/24 [==============================] - 153s 6s/step - loss: 0.3152 - accuracy: 0.8781 - val_loss: 0.5567 - val_accuracy: 0.7143\n",
            "Epoch 40/200\n",
            "24/24 [==============================] - 154s 6s/step - loss: 0.2703 - accuracy: 0.8978 - val_loss: 0.3572 - val_accuracy: 0.8312\n",
            "Epoch 41/200\n",
            "24/24 [==============================] - 151s 6s/step - loss: 0.3127 - accuracy: 0.8781 - val_loss: 0.3646 - val_accuracy: 0.8182\n",
            "Epoch 42/200\n",
            "24/24 [==============================] - 150s 6s/step - loss: 0.4534 - accuracy: 0.8218 - val_loss: 0.4369 - val_accuracy: 0.8052\n",
            "Epoch 43/200\n",
            "24/24 [==============================] - 150s 6s/step - loss: 0.3203 - accuracy: 0.8689 - val_loss: 0.2404 - val_accuracy: 0.8701\n",
            "Epoch 44/200\n",
            "24/24 [==============================] - 152s 6s/step - loss: 0.3248 - accuracy: 0.8650 - val_loss: 0.2346 - val_accuracy: 0.8961\n",
            "Epoch 45/200\n",
            "24/24 [==============================] - 149s 6s/step - loss: 0.2961 - accuracy: 0.8781 - val_loss: 0.2354 - val_accuracy: 0.8831\n",
            "Epoch 46/200\n",
            "24/24 [==============================] - 151s 6s/step - loss: 0.3119 - accuracy: 0.8742 - val_loss: 0.2141 - val_accuracy: 0.9091\n",
            "Epoch 47/200\n",
            "24/24 [==============================] - 151s 6s/step - loss: 0.5519 - accuracy: 0.7785 - val_loss: 1.1344 - val_accuracy: 0.6234\n",
            "Epoch 48/200\n",
            "24/24 [==============================] - 152s 6s/step - loss: 0.6540 - accuracy: 0.7654 - val_loss: 0.4477 - val_accuracy: 0.7662\n",
            "Epoch 49/200\n",
            "24/24 [==============================] - 154s 6s/step - loss: 0.3154 - accuracy: 0.8702 - val_loss: 0.3011 - val_accuracy: 0.8571\n",
            "Epoch 50/200\n",
            "24/24 [==============================] - 151s 6s/step - loss: 0.4923 - accuracy: 0.7877 - val_loss: 0.6413 - val_accuracy: 0.7532\n",
            "Epoch 51/200\n",
            "24/24 [==============================] - 149s 6s/step - loss: 0.3509 - accuracy: 0.8571 - val_loss: 0.3707 - val_accuracy: 0.8312\n",
            "Epoch 52/200\n",
            "24/24 [==============================] - 149s 6s/step - loss: 0.3792 - accuracy: 0.8427 - val_loss: 0.2794 - val_accuracy: 0.8571\n",
            "Epoch 53/200\n",
            "24/24 [==============================] - 148s 6s/step - loss: 0.3110 - accuracy: 0.8650 - val_loss: 0.3304 - val_accuracy: 0.8571\n",
            "Epoch 54/200\n",
            "24/24 [==============================] - 150s 6s/step - loss: 0.6084 - accuracy: 0.7628 - val_loss: 0.2933 - val_accuracy: 0.8701\n",
            "Epoch 55/200\n",
            "24/24 [==============================] - 150s 6s/step - loss: 0.3078 - accuracy: 0.8598 - val_loss: 0.8526 - val_accuracy: 0.6494\n",
            "Epoch 56/200\n",
            "23/24 [===========================>..] - ETA: 5s - loss: 0.3300 - accuracy: 0.8591 "
          ]
        }
      ]
    },
    {
      "cell_type": "code",
      "source": [
        "plt.plot(history.history['loss'], label = 'train_loss')\n",
        "plt.plot(history.history['val_loss'], label ='val loss')\n",
        "plt.legend()\n",
        "plt.show()"
      ],
      "metadata": {
        "colab": {
          "base_uri": "https://localhost:8080/",
          "height": 265
        },
        "id": "ikJxxZHWp59k",
        "outputId": "47866193-77c7-43dc-9cfc-169258949619"
      },
      "execution_count": 12,
      "outputs": [
        {
          "output_type": "display_data",
          "data": {
            "text/plain": [
              "<Figure size 432x288 with 1 Axes>"
            ],
            "image/png": "[encoded data removed]"
          },
          "metadata": {
            "needs_background": "light"
          }
        }
      ]
    },
    {
      "cell_type": "code",
      "source": [
        "# Plot the Accuracy\n",
        "plt.plot(history.history['accuracy'], label = 'train accuracy')\n",
        "plt.plot(history.history['val_accuracy'], label ='val accuracy')\n",
        "plt.legend()\n",
        "plt.show()"
      ],
      "metadata": {
        "colab": {
          "base_uri": "https://localhost:8080/",
          "height": 265
        },
        "id": "Wh7q6Nrup9bx",
        "outputId": "1b860c38-006d-4567-95aa-9be656df8db5"
      },
      "execution_count": 13,
      "outputs": [
        {
          "output_type": "display_data",
          "data": {
            "text/plain": [
              "<Figure size 432x288 with 1 Axes>"
            ],
            "image/png": "[encoded data removed]"
          },
          "metadata": {
            "needs_background": "light"
          }
        }
      ]
    },
    {
      "cell_type": "code",
      "source": [
        "prediction = model.predict(test_set)\n",
        "prediction = np.argmax(prediction, axis = 1)\n",
        "prediction"
      ],
      "metadata": {
        "id": "NhAktvMs2wJ-"
      },
      "execution_count": 14,
      "outputs": []
    },
    {
      "cell_type": "code",
      "source": [
        "print(classification_report(test_set.labels,prediction))"
      ],
      "metadata": {
        "colab": {
          "base_uri": "https://localhost:8080/"
        },
        "id": "-rJUlBZ73Bx7",
        "outputId": "0827bb4c-b6ff-4b74-88dc-2d261ba9cfe3"
      },
      "execution_count": 22,
      "outputs": [
        {
          "output_type": "stream",
          "name": "stdout",
          "text": [
            "              precision    recall  f1-score   support\n",
            "\n",
            "           0       0.17      0.10      0.12        21\n",
            "           1       0.71      0.82      0.76        56\n",
            "\n",
            "    accuracy                           0.62        77\n",
            "   macro avg       0.44      0.46      0.44        77\n",
            "weighted avg       0.56      0.62      0.59        77\n",
            "\n"
          ]
        }
      ]
    },
    {
      "cell_type": "code",
      "source": [
        "def unseen_data_test(path, image_name, model):\n",
        "    img = image.load_img(path + image_name, target_size = IMAGE_SIZE)\n",
        "    print('Original Image')\n",
        "#     print(img)\n",
        "    plt.imshow(img)\n",
        "    x = image.img_to_array(img)\n",
        "    x = x / 255\n",
        "    x = np.expand_dims(x, axis = 0)\n",
        "    img_data = preprocess_input(x)\n",
        "    result = np.argmax(model.predict(img_data), axis = 1)\n",
        "    \n",
        "    return result"
      ],
      "metadata": {
        "id": "txsYyGoms1t8"
      },
      "execution_count": null,
      "outputs": []
    }
  ]
}