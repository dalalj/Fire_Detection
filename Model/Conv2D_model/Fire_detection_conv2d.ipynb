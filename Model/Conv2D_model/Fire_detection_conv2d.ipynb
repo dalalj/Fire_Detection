{
  "nbformat": 4,
  "nbformat_minor": 0,
  "metadata": {
    "colab": {
      "provenance": [],
      "collapsed_sections": []
    },
    "kernelspec": {
      "name": "python3",
      "display_name": "Python 3"
    },
    "language_info": {
      "name": "python"
    },
    "accelerator": "GPU"
  },
  "cells": [
    {
      "cell_type": "code",
      "source": [
        "import  pandas as pd\n",
        "import  numpy as np\n",
        "import glob,cv2\n",
        "import matplotlib.pyplot as plt\n",
        "import random\n",
        "\n",
        "import tensorflow as tf\n",
        "from tensorflow.keras.models import Sequential\n",
        "from sklearn.model_selection import train_test_split\n",
        "from tensorflow.keras.layers import Conv2D,MaxPooling2D,Flatten,Dense,BatchNormalization,Activation\n",
        "from tensorflow.keras.callbacks import EarlyStopping\n",
        "from sklearn.metrics import confusion_matrix,classification_report,accuracy_score,precision_score\n",
        "\n",
        "from tensorflow.keras.applications.resnet50 import ResNet50\n",
        "from tensorflow.keras.utils import plot_model\n",
        "from tensorflow.keras.preprocessing import image"
      ],
      "metadata": {
        "id": "TtW8dQ2WcYXO"
      },
      "execution_count": null,
      "outputs": []
    },
    {
      "cell_type": "code",
      "source": [
        "from google.colab import drive\n",
        "drive.mount('/content/drive')"
      ],
      "metadata": {
        "id": "Ca4aR7eWy0hg",
        "colab": {
          "base_uri": "https://localhost:8080/"
        },
        "outputId": "fda28be9-f7d0-475c-807a-82405cb4b2cb"
      },
      "execution_count": null,
      "outputs": [
        {
          "output_type": "stream",
          "name": "stdout",
          "text": [
            "Drive already mounted at /content/drive; to attempt to forcibly remount, call drive.mount(\"/content/drive\", force_remount=True).\n"
          ]
        }
      ]
    },
    {
      "cell_type": "code",
      "source": [
        "# check the number of file\n",
        "def check_imag_file(file_path='dataset\\\\normal\\\\*.*'):\n",
        "    img_file = glob.glob(file_path)\n",
        "    print(f\"Total number in {file_path} is: {len(img_file)}\")\n",
        "\n",
        "# build the label for file\n",
        "def build_label_filepath(data_path,label=0):\n",
        "    file_list=[]\n",
        "    file_iterator=glob.glob(data_path)\n",
        "    for file in file_iterator:\n",
        "        file_list.append([file,label])\n",
        "    return file_list\n",
        "\n",
        "# read the img file by cv\n",
        "def preprocessing_image(filepath,resize_num=196):\n",
        "    img = cv2.imread(filepath) #read\n",
        "    img = cv2.cvtColor(img,cv2.COLOR_RGB2BGR) #convert\n",
        "    img = cv2.resize(img,(resize_num,resize_num))  # resize\n",
        "    img = img / 255 #scale\n",
        "    return img\n",
        "\n",
        "# create format data\n",
        "def create_format_dataset(dataframe):\n",
        "    X = []\n",
        "    y = []\n",
        "    for f, t in dataframe.values:\n",
        "        X.append(preprocessing_image(f))\n",
        "        y.append(t)\n",
        "\n",
        "    return np.array(X), np.array(y)\n",
        "\n",
        "# set model\n",
        "def build_model(X):\n",
        "    model = Sequential()\n",
        "\n",
        "    model.add(Conv2D(128, (2, 2), input_shape=(X.shape[1], X.shape[2], 3), activation='relu'))\n",
        "    model.add(Conv2D(64, (2, 2), activation='relu'))\n",
        "    model.add(MaxPooling2D())\n",
        "    model.add(Conv2D(32, (2, 2), activation='relu'))\n",
        "    model.add(MaxPooling2D())\n",
        "    model.add(Conv2D(64, (2, 2), activation='relu'))\n",
        "    model.add(MaxPooling2D())\n",
        "    model.add(Conv2D(32, (2, 2), activation='relu'))\n",
        "    model.add(MaxPooling2D())\n",
        "    model.add(Conv2D(64, (2, 2), activation='relu'))\n",
        "    model.add(MaxPooling2D())\n",
        "    model.add(Conv2D(32, (2, 2), activation='relu'))\n",
        "    model.add(MaxPooling2D())\n",
        "\n",
        "    model.add(Flatten())\n",
        "    model.add(Dense(128))\n",
        "    model.add(Dense(1, activation=\"sigmoid\"))\n",
        "    #print(model.summary())\n",
        "    return model\n"
      ],
      "metadata": {
        "id": "L-uTkkSIvay3"
      },
      "execution_count": null,
      "outputs": []
    },
    {
      "cell_type": "code",
      "source": [
        "dataset_path=\"./drive/MyDrive/Colab Notebooks/Fire-Detection/\"\n",
        "fire_path=dataset_path+'1/*.*'\n",
        "normal_path=dataset_path+'0/*.*'\n",
        "check_imag_file(fire_path)\n",
        "check_imag_file(normal_path)"
      ],
      "metadata": {
        "id": "I5HUob52voAA",
        "colab": {
          "base_uri": "https://localhost:8080/"
        },
        "outputId": "b94092dd-117a-465f-f900-e2ca821ecc80"
      },
      "execution_count": null,
      "outputs": [
        {
          "output_type": "stream",
          "name": "stdout",
          "text": [
            "Total number in ./drive/MyDrive/Colab Notebooks/Fire-Detection/1/*.* is: 415\n",
            "Total number in ./drive/MyDrive/Colab Notebooks/Fire-Detection/0/*.* is: 541\n"
          ]
        }
      ]
    },
    {
      "cell_type": "code",
      "source": [
        "fire_file_list=build_label_filepath(normal_path,label=0)\n",
        "normal_file_list=build_label_filepath(fire_path,label=1)\n",
        "total_file_list=fire_file_list+normal_file_list\n",
        "random.shuffle(total_file_list)\n",
        "df_total_file = pd.DataFrame(total_file_list, columns=['files', 'target'])\n",
        "\n",
        "X, y = create_format_dataset(df_total_file)\n",
        "print(X.shape,y.shape)"
      ],
      "metadata": {
        "id": "tWb_iXIdwARh",
        "colab": {
          "base_uri": "https://localhost:8080/"
        },
        "outputId": "3dda8f7b-b299-4894-86b2-720766d9a4dc"
      },
      "execution_count": null,
      "outputs": [
        {
          "output_type": "stream",
          "name": "stdout",
          "text": [
            "(956, 196, 196, 3) (956,)\n"
          ]
        }
      ]
    },
    {
      "cell_type": "code",
      "source": [
        "model=build_model(X)\n",
        "\n",
        "train_epochs=200\n",
        "callbacks = [EarlyStopping(monitor='val_loss', patience=10, restore_best_weights=True)]\n",
        "model.compile(optimizer='adam', loss='binary_crossentropy', metrics=['accuracy'])\n",
        "\n",
        "# train model\n",
        "X_train, X_test, y_train, y_test = train_test_split(X, y, test_size=0.3, stratify=y)\n",
        "model.fit(X_train, y_train, validation_data=(X_test, y_test), epochs=train_epochs, batch_size=32, callbacks=callbacks)\n",
        "\n",
        "y_pred = model.predict(X_test)"
      ],
      "metadata": {
        "id": "HChG_rrywWSf",
        "colab": {
          "base_uri": "https://localhost:8080/"
        },
        "outputId": "ef2d0e64-fe4e-495c-bc4b-a77c894d8dc0"
      },
      "execution_count": null,
      "outputs": [
        {
          "output_type": "stream",
          "name": "stdout",
          "text": [
            "Epoch 1/200\n",
            "21/21 [==============================] - 11s 336ms/step - loss: 0.6858 - accuracy: 0.5785 - val_loss: 0.6598 - val_accuracy: 0.5923\n",
            "Epoch 2/200\n",
            "21/21 [==============================] - 5s 221ms/step - loss: 0.5611 - accuracy: 0.6846 - val_loss: 0.4068 - val_accuracy: 0.8293\n",
            "Epoch 3/200\n",
            "21/21 [==============================] - 5s 224ms/step - loss: 0.3413 - accuracy: 0.8640 - val_loss: 0.5210 - val_accuracy: 0.7700\n",
            "Epoch 4/200\n",
            "21/21 [==============================] - 5s 220ms/step - loss: 0.3712 - accuracy: 0.8326 - val_loss: 0.2438 - val_accuracy: 0.8990\n",
            "Epoch 5/200\n",
            "21/21 [==============================] - 5s 220ms/step - loss: 0.2317 - accuracy: 0.9028 - val_loss: 0.2957 - val_accuracy: 0.8711\n",
            "Epoch 6/200\n",
            "21/21 [==============================] - 5s 222ms/step - loss: 0.2127 - accuracy: 0.9118 - val_loss: 0.1846 - val_accuracy: 0.9303\n",
            "Epoch 7/200\n",
            "21/21 [==============================] - 5s 223ms/step - loss: 0.1861 - accuracy: 0.9268 - val_loss: 0.2081 - val_accuracy: 0.9233\n",
            "Epoch 8/200\n",
            "21/21 [==============================] - 5s 224ms/step - loss: 0.1550 - accuracy: 0.9372 - val_loss: 0.1660 - val_accuracy: 0.9233\n",
            "Epoch 9/200\n",
            "21/21 [==============================] - 5s 225ms/step - loss: 0.1244 - accuracy: 0.9567 - val_loss: 0.2098 - val_accuracy: 0.9199\n",
            "Epoch 10/200\n",
            "21/21 [==============================] - 5s 225ms/step - loss: 0.1525 - accuracy: 0.9342 - val_loss: 0.1858 - val_accuracy: 0.9233\n",
            "Epoch 11/200\n",
            "21/21 [==============================] - 5s 224ms/step - loss: 0.1599 - accuracy: 0.9417 - val_loss: 0.1754 - val_accuracy: 0.9164\n",
            "Epoch 12/200\n",
            "21/21 [==============================] - 5s 227ms/step - loss: 0.0994 - accuracy: 0.9611 - val_loss: 0.1611 - val_accuracy: 0.9338\n",
            "Epoch 13/200\n",
            "21/21 [==============================] - 5s 228ms/step - loss: 0.0723 - accuracy: 0.9806 - val_loss: 0.2007 - val_accuracy: 0.9199\n",
            "Epoch 14/200\n",
            "21/21 [==============================] - 5s 226ms/step - loss: 0.0956 - accuracy: 0.9626 - val_loss: 0.2016 - val_accuracy: 0.9338\n",
            "Epoch 15/200\n",
            "21/21 [==============================] - 5s 225ms/step - loss: 0.0926 - accuracy: 0.9596 - val_loss: 0.2873 - val_accuracy: 0.9233\n",
            "Epoch 16/200\n",
            "21/21 [==============================] - 5s 224ms/step - loss: 0.0985 - accuracy: 0.9656 - val_loss: 0.1896 - val_accuracy: 0.9373\n",
            "Epoch 17/200\n",
            "21/21 [==============================] - 5s 223ms/step - loss: 0.0816 - accuracy: 0.9671 - val_loss: 0.2143 - val_accuracy: 0.9233\n",
            "Epoch 18/200\n",
            "21/21 [==============================] - 5s 226ms/step - loss: 0.0820 - accuracy: 0.9716 - val_loss: 0.2167 - val_accuracy: 0.9233\n",
            "Epoch 19/200\n",
            "21/21 [==============================] - 5s 223ms/step - loss: 0.0931 - accuracy: 0.9626 - val_loss: 0.2197 - val_accuracy: 0.9233\n",
            "Epoch 20/200\n",
            "21/21 [==============================] - 5s 222ms/step - loss: 0.0964 - accuracy: 0.9567 - val_loss: 0.2901 - val_accuracy: 0.9129\n",
            "Epoch 21/200\n",
            "21/21 [==============================] - 5s 222ms/step - loss: 0.0367 - accuracy: 0.9851 - val_loss: 0.2248 - val_accuracy: 0.9268\n",
            "Epoch 22/200\n",
            "21/21 [==============================] - 5s 222ms/step - loss: 0.0326 - accuracy: 0.9880 - val_loss: 0.3156 - val_accuracy: 0.9164\n"
          ]
        }
      ]
    },
    {
      "cell_type": "code",
      "source": [
        "y_pred_reshape = y_pred.reshape(-1)\n",
        "fire_thresold=0.65\n",
        "y_pred_reshape[y_pred_reshape<fire_thresold] = 0\n",
        "y_pred_reshape[y_pred_reshape>=fire_thresold] = 1\n",
        "y_pred_reshape = y_pred_reshape.astype('int')\n",
        "print(classification_report(y_test, y_pred_reshape))"
      ],
      "metadata": {
        "id": "JlulClxHxOMU",
        "colab": {
          "base_uri": "https://localhost:8080/"
        },
        "outputId": "f616491d-b3ab-4234-e9ae-9012fc76fe5a"
      },
      "execution_count": null,
      "outputs": [
        {
          "output_type": "stream",
          "name": "stdout",
          "text": [
            "              precision    recall  f1-score   support\n",
            "\n",
            "           0       0.92      0.96      0.94       162\n",
            "           1       0.95      0.90      0.92       125\n",
            "\n",
            "    accuracy                           0.93       287\n",
            "   macro avg       0.94      0.93      0.93       287\n",
            "weighted avg       0.93      0.93      0.93       287\n",
            "\n"
          ]
        }
      ]
    },
    {
      "cell_type": "code",
      "source": [
        "import pickle\n",
        "pickle.dump(model, open(\"fire_detection_conv2d.pkl\", 'wb'))"
      ],
      "metadata": {
        "id": "Uu1n-kJ-XlDY"
      },
      "execution_count": null,
      "outputs": []
    },
    {
      "cell_type": "code",
      "source": [],
      "metadata": {
        "id": "mdulmpx_YSdP"
      },
      "execution_count": null,
      "outputs": []
    }
  ]
}